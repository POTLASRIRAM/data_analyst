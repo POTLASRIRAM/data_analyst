{
 "cells": [
  {
   "cell_type": "markdown",
   "metadata": {},
   "source": [
    "# Module: NumPy Assignments\n",
    "## Lesson: NumPy\n",
    "### Assignment 1: Array Creation and Manipulation\n",
    "\n",
    "1. Create a NumPy array of shape (5, 5) filled with random integers between 1 and 20. Replace all the elements in the third column with 1.\n",
    "2. Create a NumPy array of shape (4, 4) with values from 1 to 16. Replace the diagonal elements with 0.\n",
    "\n",
    "### Assignment 2: Array Indexing and Slicing\n",
    "\n",
    "1. Create a NumPy array of shape (6, 6) with values from 1 to 36. Extract the sub-array consisting of the 3rd to 5th rows and 2nd to 4th columns.\n",
    "2. Create a NumPy array of shape (5, 5) with random integers. Extract the elements on the border.\n",
    "\n",
    "### Assignment 3: Array Operations\n",
    "\n",
    "1. Create two NumPy arrays of shape (3, 4) filled with random integers. Perform element-wise addition, subtraction, multiplication, and division.\n",
    "2. Create a NumPy array of shape (4, 4) with values from 1 to 16. Compute the row-wise and column-wise sum.\n",
    "\n",
    "### Assignment 4: Statistical Operations\n",
    "\n",
    "1. Create a NumPy array of shape (5, 5) filled with random integers. Compute the mean, median, standard deviation, and variance of the array.\n",
    "2. Create a NumPy array of shape (3, 3) with values from 1 to 9. Normalize the array (i.e., scale the values to have a mean of 0 and a standard deviation of 1).\n",
    "\n",
    "### Assignment 5: Broadcasting\n",
    "\n",
    "1. Create a NumPy array of shape (3, 3) filled with random integers. Add a 1D array of shape (3,) to each row of the 2D array using broadcasting.\n",
    "2. Create a NumPy array of shape (4, 4) filled with random integers. Subtract a 1D array of shape (4,) from each column of the 2D array using broadcasting.\n",
    "\n",
    "### Assignment 6: Linear Algebra\n",
    "\n",
    "1. Create a NumPy array of shape (3, 3) representing a matrix. Compute its determinant, inverse, and eigenvalues.\n",
    "2. Create two NumPy arrays of shape (2, 3) and (3, 2). Perform matrix multiplication on these arrays.\n",
    "\n",
    "### Assignment 7: Advanced Array Manipulation\n",
    "\n",
    "1. Create a NumPy array of shape (3, 3) with values from 1 to 9. Reshape the array to shape (1, 9) and then to shape (9, 1).\n",
    "2. Create a NumPy array of shape (5, 5) filled with random integers. Flatten the array and then reshape it back to (5, 5).\n",
    "\n",
    "### Assignment 8: Fancy Indexing and Boolean Indexing\n",
    "\n",
    "1. Create a NumPy array of shape (5, 5) filled with random integers. Use fancy indexing to extract the elements at the corners of the array.\n",
    "2. Create a NumPy array of shape (4, 4) filled with random integers. Use boolean indexing to set all elements greater than 10 to 10.\n",
    "\n",
    "### Assignment 9: Structured Arrays\n",
    "\n",
    "1. Create a structured array with fields 'name' (string), 'age' (integer), and 'weight' (float). Add some data and sort the array by age.\n",
    "2. Create a structured array with fields 'x' and 'y' (both integers). Add some data and compute the Euclidean distance between each pair of points.\n",
    "\n",
    "### Assignment 10: Masked Arrays\n",
    "\n",
    "1. Create a masked array of shape (4, 4) with random integers and mask the elements greater than 10. Compute the sum of the unmasked elements.\n",
    "2. Create a masked array of shape (3, 3) with random integers and mask the diagonal elements. Replace the masked elements with the mean of the unmasked elements."
   ]
  },
  {
   "cell_type": "code",
   "execution_count": 2,
   "id": "fb0a8b9f",
   "metadata": {},
   "outputs": [],
   "source": [
    "import numpy as np"
   ]
  },
  {
   "cell_type": "code",
   "execution_count": 8,
   "id": "dabae3b8",
   "metadata": {},
   "outputs": [
    {
     "data": {
      "text/plain": [
       "array([[ 1,  7,  1,  3,  3],\n",
       "       [13, 13,  1,  4, 20],\n",
       "       [12, 20,  1,  2,  5],\n",
       "       [ 6,  1,  1, 14, 12],\n",
       "       [20,  2,  1, 20, 14]])"
      ]
     },
     "execution_count": 8,
     "metadata": {},
     "output_type": "execute_result"
    }
   ],
   "source": [
    "### Assignment 1: Array Creation and Manipulation\n",
    "\n",
    "# 1. Create a NumPy array of shape (5, 5) filled with random integers between 1 and 20. Replace all the elements in the third column with 1.\n",
    "rng = np.random.default_rng()\n",
    "m = rng.integers(21,size=(5,5))\n",
    "m[0:5,2:3] = 1\n",
    "m"
   ]
  },
  {
   "cell_type": "code",
   "execution_count": 12,
   "id": "f4e22cfb",
   "metadata": {},
   "outputs": [
    {
     "data": {
      "text/plain": [
       "array([[ 4, 10,  1, 15, 15],\n",
       "       [12,  5,  1,  2,  4],\n",
       "       [ 5, 19,  1,  2,  5],\n",
       "       [16, 12,  1, 19, 14],\n",
       "       [10,  1,  1, 14, 14]], dtype=int32)"
      ]
     },
     "execution_count": 12,
     "metadata": {},
     "output_type": "execute_result"
    }
   ],
   "source": [
    "m = np.random.randint(1,21,size=(5,5))\n",
    "m[:,2] = 1\n",
    "m"
   ]
  },
  {
   "cell_type": "code",
   "execution_count": 15,
   "metadata": {},
   "outputs": [
    {
     "data": {
      "text/plain": [
       "array([[ 1, 12, 10,  6],\n",
       "       [ 7,  1, 12,  6],\n",
       "       [16,  3,  1,  6],\n",
       "       [ 8,  7,  9,  1]], dtype=int32)"
      ]
     },
     "execution_count": 15,
     "metadata": {},
     "output_type": "execute_result"
    }
   ],
   "source": [
    "# 2. Create a NumPy array of shape (4, 4) with values from 1 to 16. Replace the diagonal elements with 0.\n",
    "q2 = np.random.randint(1,17,size=(4,4))\n",
    "np.fill_diagonal(q2,1)\n",
    "q2\n"
   ]
  },
  {
   "cell_type": "code",
   "execution_count": 18,
   "id": "a364aa83",
   "metadata": {},
   "outputs": [
    {
     "data": {
      "text/plain": [
       "array([[ 9, 12,  5, 20, 25, 31],\n",
       "       [25, 15, 30,  2, 25, 13],\n",
       "       [17,  3, 22, 25,  6,  4],\n",
       "       [14, 18, 19, 29,  9, 27],\n",
       "       [18, 15, 24, 14, 33, 35],\n",
       "       [22, 28, 35, 10, 14, 10]], dtype=int32)"
      ]
     },
     "execution_count": 18,
     "metadata": {},
     "output_type": "execute_result"
    }
   ],
   "source": [
    "### Assignment 2: Array Indexing and Slicing\n",
    "\n",
    "# 1. Create a NumPy array of shape (6, 6) with values from 1 to 36. Extract the sub-array consisting of the 3rd to 5th rows and 2nd to 4th columns.\n",
    "q1 = np.random.randint(1,37,size=(6,6))\n",
    "q1"
   ]
  },
  {
   "cell_type": "code",
   "execution_count": 19,
   "id": "c5e4ea72",
   "metadata": {},
   "outputs": [
    {
     "data": {
      "text/plain": [
       "array([[ 3, 22, 25],\n",
       "       [18, 19, 29],\n",
       "       [15, 24, 14]], dtype=int32)"
      ]
     },
     "execution_count": 19,
     "metadata": {},
     "output_type": "execute_result"
    }
   ],
   "source": [
    "q1[2:5,1:4]"
   ]
  },
  {
   "cell_type": "code",
   "execution_count": 28,
   "id": "b1715b30",
   "metadata": {},
   "outputs": [
    {
     "data": {
      "text/plain": [
       "array([[2, 6, 2, 1, 3],\n",
       "       [3, 2, 7, 1, 7],\n",
       "       [6, 8, 4, 6, 8],\n",
       "       [8, 3, 4, 1, 3],\n",
       "       [8, 6, 8, 4, 8]], dtype=int32)"
      ]
     },
     "execution_count": 28,
     "metadata": {},
     "output_type": "execute_result"
    }
   ],
   "source": [
    "# #2. Create a NumPy array of shape (5, 5) with random integers. Extract the elements on the border.\n",
    "q2 = np.random.randint(1,10,size=(5,5))\n",
    "q2"
   ]
  },
  {
   "cell_type": "code",
   "execution_count": 29,
   "id": "fb4fd1b9",
   "metadata": {},
   "outputs": [
    {
     "data": {
      "text/plain": [
       "array([3, 7, 8, 3, 8], dtype=int32)"
      ]
     },
     "execution_count": 29,
     "metadata": {},
     "output_type": "execute_result"
    }
   ],
   "source": [
    "q2[:,4]"
   ]
  },
  {
   "cell_type": "code",
   "execution_count": 2,
   "id": "8f7da05f",
   "metadata": {},
   "outputs": [],
   "source": [
    "### Assignment 3: Array Operations\n",
    "\n",
    "#1. Create two NumPy arrays of shape (3, 4) filled with random integers. Perform element-wise addition, subtraction, multiplication, and division.\n",
    "n1 = np.random.randint(1,5,size=(3,4))\n",
    "n2 = np.random.randint(1,5,size=(3,4))"
   ]
  },
  {
   "cell_type": "code",
   "execution_count": 3,
   "id": "b5da2bae",
   "metadata": {},
   "outputs": [
    {
     "data": {
      "text/plain": [
       "array([[2, 2, 2, 1],\n",
       "       [3, 4, 4, 1],\n",
       "       [1, 2, 3, 4]], dtype=int32)"
      ]
     },
     "execution_count": 3,
     "metadata": {},
     "output_type": "execute_result"
    }
   ],
   "source": [
    "n1"
   ]
  },
  {
   "cell_type": "code",
   "execution_count": 4,
   "id": "3dd21596",
   "metadata": {},
   "outputs": [
    {
     "data": {
      "text/plain": [
       "array([[3, 2, 1, 4],\n",
       "       [1, 3, 1, 4],\n",
       "       [2, 4, 4, 1]], dtype=int32)"
      ]
     },
     "execution_count": 4,
     "metadata": {},
     "output_type": "execute_result"
    }
   ],
   "source": [
    "n2"
   ]
  },
  {
   "cell_type": "code",
   "execution_count": 6,
   "id": "91f76dbd",
   "metadata": {},
   "outputs": [
    {
     "data": {
      "text/plain": [
       "array([[5, 4, 3, 5],\n",
       "       [4, 7, 5, 5],\n",
       "       [3, 6, 7, 5]], dtype=int32)"
      ]
     },
     "execution_count": 6,
     "metadata": {},
     "output_type": "execute_result"
    }
   ],
   "source": [
    "#addition\n",
    "n1+n2"
   ]
  },
  {
   "cell_type": "code",
   "execution_count": 7,
   "id": "af644d16",
   "metadata": {},
   "outputs": [
    {
     "data": {
      "text/plain": [
       "array([[ 6,  4,  2,  4],\n",
       "       [ 3, 12,  4,  4],\n",
       "       [ 2,  8, 12,  4]], dtype=int32)"
      ]
     },
     "execution_count": 7,
     "metadata": {},
     "output_type": "execute_result"
    }
   ],
   "source": [
    "# multiplication\n",
    "n1*n2"
   ]
  },
  {
   "cell_type": "code",
   "execution_count": 8,
   "id": "6304ac55",
   "metadata": {},
   "outputs": [
    {
     "data": {
      "text/plain": [
       "array([[2, 0, 0, 1],\n",
       "       [0, 1, 0, 1],\n",
       "       [1, 2, 3, 0]], dtype=int32)"
      ]
     },
     "execution_count": 8,
     "metadata": {},
     "output_type": "execute_result"
    }
   ],
   "source": [
    "# division\n",
    "n1%n2"
   ]
  },
  {
   "cell_type": "code",
   "execution_count": null,
   "id": "070860b4",
   "metadata": {},
   "outputs": [
    {
     "data": {
      "text/plain": [
       "array([[-1,  0,  1, -3],\n",
       "       [ 2,  1,  3, -3],\n",
       "       [-1, -2, -1,  3]], dtype=int32)"
      ]
     },
     "execution_count": 5,
     "metadata": {},
     "output_type": "execute_result"
    }
   ],
   "source": [
    "#subtraction\n",
    "n1-n2"
   ]
  },
  {
   "cell_type": "code",
   "execution_count": 9,
   "id": "75adbb9e",
   "metadata": {},
   "outputs": [
    {
     "data": {
      "text/plain": [
       "array([[ 3, 10,  2, 12],\n",
       "       [15,  1,  6,  3],\n",
       "       [ 5, 11,  9, 16],\n",
       "       [ 2, 16, 15,  5]], dtype=int32)"
      ]
     },
     "execution_count": 9,
     "metadata": {},
     "output_type": "execute_result"
    }
   ],
   "source": [
    "#2. Create a NumPy array of shape (4, 4) with values from 1 to 16. Compute the row-wise and column-wise sum.\n",
    "\n",
    "q2 = np.random.randint(1,17,size=(4,4))\n",
    "q2"
   ]
  },
  {
   "cell_type": "code",
   "execution_count": 18,
   "id": "a67502bd",
   "metadata": {},
   "outputs": [
    {
     "data": {
      "text/plain": [
       "array([[ 3, 13, 15, 27],\n",
       "       [15, 16, 22, 25],\n",
       "       [ 5, 16, 25, 41],\n",
       "       [ 2, 18, 33, 38]])"
      ]
     },
     "execution_count": 18,
     "metadata": {},
     "output_type": "execute_result"
    }
   ],
   "source": [
    "q21 = np.cumulative_sum(q2,axis=1)\n",
    "q21"
   ]
  },
  {
   "cell_type": "code",
   "execution_count": 19,
   "id": "7756fb0d",
   "metadata": {},
   "outputs": [
    {
     "data": {
      "text/plain": [
       "array([[ 3, 10,  2, 12],\n",
       "       [18, 11,  8, 15],\n",
       "       [23, 22, 17, 31],\n",
       "       [25, 38, 32, 36]])"
      ]
     },
     "execution_count": 19,
     "metadata": {},
     "output_type": "execute_result"
    }
   ],
   "source": [
    "q22 = np.cumulative_sum(q2,axis=0)\n",
    "q22"
   ]
  },
  {
   "cell_type": "code",
   "execution_count": 21,
   "id": "77231fb5",
   "metadata": {},
   "outputs": [
    {
     "data": {
      "text/plain": [
       "[array([27, 25, 41, 38]), array([25, 38, 32, 36])]"
      ]
     },
     "execution_count": 21,
     "metadata": {},
     "output_type": "execute_result"
    }
   ],
   "source": [
    "q2f = [q21[:,-1],q22[-1,:]]\n",
    "q2f"
   ]
  },
  {
   "cell_type": "code",
   "execution_count": 22,
   "id": "38579c0c",
   "metadata": {},
   "outputs": [
    {
     "name": "stdout",
     "output_type": "stream",
     "text": [
      "Row sum [27 25 41 38]\n",
      "Column sum  [25 38 32 36]\n"
     ]
    }
   ],
   "source": [
    "## Or\n",
    "row_sum = np.sum(q2,axis=1)\n",
    "col_sum = np.sum(q2,axis=0)\n",
    "print(\"Row sum\" ,row_sum)\n",
    "print(\"Column sum \",col_sum)"
   ]
  },
  {
   "cell_type": "code",
   "execution_count": 32,
   "id": "78d15737",
   "metadata": {},
   "outputs": [
    {
     "name": "stdout",
     "output_type": "stream",
     "text": [
      "[[ 7 18 18  1 17]\n",
      " [15  1 19  1  8]\n",
      " [ 1 10  1  3 15]\n",
      " [ 7  1  7 11 13]\n",
      " [ 7  8 13 19 15]]\n",
      "Sum 236\n",
      "Mean 9.44\n",
      "variance 40.166399999999996\n",
      "Std 6.337696742508275\n",
      "Median 8.0\n"
     ]
    }
   ],
   "source": [
    "### Assignment 4: Statistical Operations\n",
    "\n",
    "#1. Create a NumPy array of shape (5, 5) filled with random integers. Compute the mean, median, standard deviation, and variance of the array.\n",
    "n = np.random.randint(1,20,size=(5,5))\n",
    "print(n)\n",
    "sum = n.sum()\n",
    "mean = n.mean()\n",
    "variance = n.var()\n",
    "std = np.sqrt(variance)\n",
    "median = np.median(n)\n",
    "print(\"Sum\",sum)\n",
    "print(\"Mean\",mean)\n",
    "print(\"variance\",variance)\n",
    "print(\"Std\",std)\n",
    "print(\"Median\",median)"
   ]
  },
  {
   "cell_type": "code",
   "execution_count": 38,
   "id": "0d91b8fa",
   "metadata": {},
   "outputs": [
    {
     "name": "stdout",
     "output_type": "stream",
     "text": [
      "[[8 8 5]\n",
      " [8 6 1]\n",
      " [7 5 7]]\n",
      "[[-0.88618626 -0.88618626  0.52128604]\n",
      " [-0.88618626  0.0521286   2.39791576]\n",
      " [-0.41702883  0.52128604 -0.41702883]]\n"
     ]
    }
   ],
   "source": [
    "#2. Create a NumPy array of shape (3, 3) with values from 1 to 9. Normalize the array (i.e., scale the values to have a mean of 0 and a standard deviation of 1).\n",
    "\n",
    "n = np.random.randint(1,10,size=(3,3))\n",
    "print(n)\n",
    "mean = np.mean(n)\n",
    "std = np.std(n)\n",
    "normalised_array = (mean-n)/std\n",
    "print(normalised_array)\n"
   ]
  },
  {
   "cell_type": "code",
   "execution_count": 41,
   "id": "bdfb03fc",
   "metadata": {},
   "outputs": [
    {
     "name": "stdout",
     "output_type": "stream",
     "text": [
      "[[5 4 5]\n",
      " [6 8 4]\n",
      " [8 3 1]]\n"
     ]
    },
    {
     "data": {
      "text/plain": [
       "array([[16, 16, 18],\n",
       "       [17, 20, 17],\n",
       "       [19, 15, 14]])"
      ]
     },
     "execution_count": 41,
     "metadata": {},
     "output_type": "execute_result"
    }
   ],
   "source": [
    "### Assignment 5: Broadcasting\n",
    "\n",
    "#1. Create a NumPy array of shape (3, 3) filled with random integers. \n",
    "# Add a 1D array of shape (3,) to each row of the 2D array using broadcasting.\n",
    "n1 = np.random.randint(1,10,size=(3,3))\n",
    "print(n1)\n",
    "n2 = np.array([11,12,13])\n",
    "\n",
    "n1+n2\n"
   ]
  },
  {
   "cell_type": "code",
   "execution_count": 43,
   "id": "6b15eaef",
   "metadata": {},
   "outputs": [
    {
     "name": "stdout",
     "output_type": "stream",
     "text": [
      "[[3 5 8]\n",
      " [6 6 9]\n",
      " [1 8 5]]\n"
     ]
    },
    {
     "data": {
      "text/plain": [
       "array([[ 8,  7,  5],\n",
       "       [ 5,  6,  4],\n",
       "       [10,  4,  8]])"
      ]
     },
     "execution_count": 43,
     "metadata": {},
     "output_type": "execute_result"
    }
   ],
   "source": [
    "#2. Create a NumPy array of shape (4, 4) filled with random integers. Subtract a 1D array of shape (4,) from each column of the 2D array using broadcasting.\n",
    "n1 = np.random.randint(1,10,size=(3,3))\n",
    "print(n1)\n",
    "n2 = np.array([11,12,13])\n",
    "\n",
    "abs(n1-n2)\n"
   ]
  },
  {
   "cell_type": "code",
   "execution_count": 45,
   "id": "9cbd52fe",
   "metadata": {},
   "outputs": [
    {
     "name": "stdout",
     "output_type": "stream",
     "text": [
      "74.99999999999997\n",
      "[[-2.00000000e-01  2.37904934e-17  2.00000000e-01]\n",
      " [-2.80000000e-01 -4.00000000e-01  4.80000000e-01]\n",
      " [ 5.60000000e-01  4.66666667e-01 -6.26666667e-01]]\n",
      "EigResult(eigenvalues=array([15.32333115, -5.42034485, -0.90298629]), eigenvectors=array([[-0.54663579, -0.66298454, -0.17237077],\n",
      "       [-0.41899886,  0.74686551, -0.59886799],\n",
      "       [-0.72500294, -0.0514141 ,  0.78207765]]))\n"
     ]
    }
   ],
   "source": [
    "### Assignment 6: Linear Algebra\n",
    "\n",
    "#1. Create a NumPy array of shape (3, 3) representing a matrix. Compute its determinant, inverse, and eigenvalues.\n",
    "n = np.random.randint(1,10,size=(3,3))\n",
    "print(np.linalg.det(n))\n",
    "print(np.linalg.inv(n))\n",
    "print(np.linalg.eig(n))"
   ]
  },
  {
   "cell_type": "code",
   "execution_count": 49,
   "id": "e73b66f0",
   "metadata": {},
   "outputs": [
    {
     "name": "stdout",
     "output_type": "stream",
     "text": [
      "[[1 1 3]\n",
      " [2 4 4]]\n",
      "[[7 8]\n",
      " [6 8]\n",
      " [7 7]]\n",
      "[[34 37]\n",
      " [66 76]]\n"
     ]
    }
   ],
   "source": [
    "#2. Create two NumPy arrays of shape (2, 3) and (3, 2). Perform matrix multiplication on these arrays.\n",
    "n1 = np.random.randint(1,5,size=(2,3))\n",
    "n2 = np.random.randint(6,10,size=(3,2))\n",
    "print(n1)\n",
    "print(n2)\n",
    "op = np.matmul(n1,n2)\n",
    "print(op)"
   ]
  },
  {
   "cell_type": "code",
   "execution_count": 53,
   "id": "c172a3ab",
   "metadata": {},
   "outputs": [
    {
     "name": "stdout",
     "output_type": "stream",
     "text": [
      "[[8 7 1]\n",
      " [4 2 2]\n",
      " [4 6 1]]\n",
      "[[8 7 1 4 2 2 4 6 1]]\n",
      "[[8]\n",
      " [7]\n",
      " [1]\n",
      " [4]\n",
      " [2]\n",
      " [2]\n",
      " [4]\n",
      " [6]\n",
      " [1]]\n"
     ]
    }
   ],
   "source": [
    "### Assignment 7: Advanced Array Manipulation\n",
    "\n",
    "#1. Create a NumPy array of shape (3, 3) with values from 1 to 9. Reshape the array to shape (1, 9) and then to shape (9, 1).\n",
    "n1 = np.random.randint(1,10,size=(3,3))\n",
    "print(n1)\n",
    "n2 = n1.reshape(1,9)\n",
    "print(n2)\n",
    "n3 = n2.reshape(9,1)\n",
    "print(n3)"
   ]
  },
  {
   "cell_type": "code",
   "execution_count": 57,
   "id": "e731119f",
   "metadata": {},
   "outputs": [
    {
     "name": "stdout",
     "output_type": "stream",
     "text": [
      "[[1 8 4 4 5]\n",
      " [1 2 1 2 9]\n",
      " [3 1 8 4 4]\n",
      " [9 3 3 3 4]\n",
      " [5 1 9 3 5]]\n",
      "[1 8 4 4 5 1 2 1 2 9 3 1 8 4 4 9 3 3 3 4 5 1 9 3 5]\n",
      "[[1 8 4 4 5]\n",
      " [1 2 1 2 9]\n",
      " [3 1 8 4 4]\n",
      " [9 3 3 3 4]\n",
      " [5 1 9 3 5]]\n"
     ]
    }
   ],
   "source": [
    "#2. Create a NumPy array of shape (5, 5) filled with random integers. Flatten the array and then reshape it back to (5, 5).\n",
    "n1 = np.random.randint(1,10,size=(5,5))\n",
    "print(n1)\n",
    "n2 = n1.flatten()\n",
    "print(n2)\n",
    "n3 = n2.reshape(5,5)\n",
    "print(n3)"
   ]
  },
  {
   "cell_type": "code",
   "execution_count": 8,
   "id": "a8d91729",
   "metadata": {},
   "outputs": [
    {
     "name": "stdout",
     "output_type": "stream",
     "text": [
      "[[2 7 4 4 5]\n",
      " [4 4 2 9 9]\n",
      " [2 5 8 3 9]\n",
      " [3 5 6 7 2]\n",
      " [3 3 5 2 7]]\n",
      "Corner elements: [np.int32(2), np.int32(5), np.int32(3), np.int32(7)]\n"
     ]
    }
   ],
   "source": [
    "### Assignment 8: Fancy Indexing and Boolean Indexing\n",
    "\n",
    "#1. Create a NumPy array of shape (5, 5) filled with random integers. Use fancy indexing to extract the elements at the corners of the array.\n",
    "n1 = np.random.randint(1,10,size=(5,5))\n",
    "print(n1)\n",
    "top_left = n1[0, 0]\n",
    "top_right = n1[0, -1]\n",
    "bottom_left = n1[-1, 0]\n",
    "bottom_right = n1[-1, -1]\n",
    "\n",
    "corners = [top_left, top_right, bottom_left, bottom_right]\n",
    "print(\"Corner elements:\", corners)\n"
   ]
  },
  {
   "cell_type": "code",
   "execution_count": 17,
   "id": "38c28c6c",
   "metadata": {},
   "outputs": [
    {
     "name": "stdout",
     "output_type": "stream",
     "text": [
      "Matrix:\n",
      " [[9 8 3 9]\n",
      " [4 4 6 2]\n",
      " [8 6 3 4]\n",
      " [3 1 8 6]]\n",
      "Corner elements: [9 9 3 6]\n"
     ]
    }
   ],
   "source": [
    "#2. Create a NumPy array of shape (4, 4) filled with random integers. \n",
    "# Use boolean indexing to set all elements greater than 10 to 10.\n",
    "import numpy as np\n",
    "\n",
    "n2 = np.random.randint(1, 10, size=(4, 4))\n",
    "print(\"Matrix:\\n\", n2)\n",
    "\n",
    "# Create a boolean mask with the same shape\n",
    "mask = np.zeros_like(n2, dtype=bool)\n",
    "\n",
    "# Set corners to True\n",
    "mask[0, 0] = True                      # top-left\n",
    "mask[0, -1] = True                     # top-right\n",
    "mask[-1, 0] = True                     # bottom-left\n",
    "mask[-1, -1] = True                    # bottom-right\n",
    "\n",
    "# Apply the mask\n",
    "corners = n2[mask]\n",
    "print(\"Corner elements:\", corners)\n"
   ]
  },
  {
   "cell_type": "code",
   "execution_count": null,
   "id": "6db50854",
   "metadata": {},
   "outputs": [],
   "source": []
  }
 ],
 "metadata": {
  "kernelspec": {
   "display_name": "Python 3",
   "language": "python",
   "name": "python3"
  },
  "language_info": {
   "codemirror_mode": {
    "name": "ipython",
    "version": 3
   },
   "file_extension": ".py",
   "mimetype": "text/x-python",
   "name": "python",
   "nbconvert_exporter": "python",
   "pygments_lexer": "ipython3",
   "version": "3.13.0"
  }
 },
 "nbformat": 4,
 "nbformat_minor": 5
}
